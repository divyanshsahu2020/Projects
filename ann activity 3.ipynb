{
 "cells": [
  {
   "cell_type": "code",
   "execution_count": 1,
   "id": "451ee576",
   "metadata": {},
   "outputs": [],
   "source": [
    "import numpy as np"
   ]
  },
  {
   "cell_type": "code",
   "execution_count": 4,
   "id": "566abb0b",
   "metadata": {},
   "outputs": [],
   "source": [
    "arr1=[1,2,3,4,5,6,7,8,9,10,11,12,13,14,15,16,17,18,19,20]\n",
    "arr2=[1,2,3,4,5,6,7,8,9,10,11,12]\n",
    "arr3=[1,2,3,4,5,6]\n",
    "arr4=[1,2]"
   ]
  },
  {
   "cell_type": "code",
   "execution_count": 5,
   "id": "77edccb8",
   "metadata": {},
   "outputs": [],
   "source": [
    "arr1=np.array(arr1)\n",
    "arr2=np.array(arr2)\n",
    "arr3=np.array(arr3)\n",
    "arr4=np.array(arr4)"
   ]
  },
  {
   "cell_type": "code",
   "execution_count": 6,
   "id": "bb6ab209",
   "metadata": {},
   "outputs": [],
   "source": [
    "arr1=arr1.reshape(5,4)\n",
    "arr2=arr2.reshape(4,3)\n",
    "arr3=arr3.reshape(3,2)\n",
    "arr4=arr4.reshape(2,1)"
   ]
  },
  {
   "cell_type": "code",
   "execution_count": 16,
   "id": "ef50aed4",
   "metadata": {},
   "outputs": [
    {
     "name": "stdout",
     "output_type": "stream",
     "text": [
      "[[ 3  5  7]\n",
      " [ 4 47 10]]\n"
     ]
    }
   ],
   "source": [
    "#matrix addition\n",
    "a=[[1,2,3],[3,45,7]]\n",
    "b=[[2,3,4],[1,2,3]]\n",
    "a=np.array(a)\n",
    "b=np.array(b)\n",
    "print(np.add(a,b))"
   ]
  },
  {
   "cell_type": "code",
   "execution_count": 7,
   "id": "8bef8f3e",
   "metadata": {},
   "outputs": [],
   "source": [
    "a=np.dot(arr1,arr2)\n",
    "b=np.dot(a,arr3)\n",
    "c=np.dot(b,arr4)"
   ]
  },
  {
   "cell_type": "code",
   "execution_count": 8,
   "id": "93ba2ee0",
   "metadata": {},
   "outputs": [
    {
     "name": "stdout",
     "output_type": "stream",
     "text": [
      "[[ 2760]\n",
      " [ 6384]\n",
      " [10008]\n",
      " [13632]\n",
      " [17256]]\n"
     ]
    }
   ],
   "source": [
    "print(c)"
   ]
  },
  {
   "cell_type": "code",
   "execution_count": 9,
   "id": "ae1ca9d7",
   "metadata": {},
   "outputs": [],
   "source": []
  },
  {
   "cell_type": "code",
   "execution_count": 10,
   "id": "75c75e6b",
   "metadata": {},
   "outputs": [
    {
     "name": "stdout",
     "output_type": "stream",
     "text": [
      "[[ 1  5  9 13 17]\n",
      " [ 2  6 10 14 18]\n",
      " [ 3  7 11 15 19]\n",
      " [ 4  8 12 16 20]]\n"
     ]
    }
   ],
   "source": [
    "\n",
    "print(arr1.transpose())"
   ]
  },
  {
   "cell_type": "code",
   "execution_count": 89,
   "id": "6b40fdb9",
   "metadata": {},
   "outputs": [],
   "source": [
    "#question 3"
   ]
  },
  {
   "cell_type": "code",
   "execution_count": 1,
   "id": "5e250a2b",
   "metadata": {},
   "outputs": [
    {
     "name": "stdout",
     "output_type": "stream",
     "text": [
      "[[ 0.17647059 -0.00326797 -0.02287582]\n",
      " [ 0.05882353 -0.13071895  0.08496732]\n",
      " [-0.11764706  0.1503268   0.05228758]]\n"
     ]
    }
   ],
   "source": [
    "import numpy as np\n",
    "  \n",
    "# Taking a 3 * 3 matrix\n",
    "A111 = np.array([[6, 1, 1],\n",
    "              [4, -2, 5],\n",
    "              [2, 8, 7]])\n",
    "  \n",
    "# Calculating the inverse of the matrix\n",
    "print(np.linalg.inv(A111))"
   ]
  },
  {
   "cell_type": "code",
   "execution_count": 2,
   "id": "422f041f",
   "metadata": {
    "scrolled": true
   },
   "outputs": [
    {
     "name": "stdout",
     "output_type": "stream",
     "text": [
      "XOR with binary input and binary output\n",
      " INPUT        TARGET     WEIGHT CHANGES          WEIGHTS         \n",
      "                                              ( 0,  0,  0)\n",
      "( 1,  1)           0     ( 0,  0,  0)       ( 0,  0,  0)\n",
      "( 1,  0)           1     ( 1,  0,  1)       ( 1,  0,  1)\n",
      "( 0,  1)           1     ( 0,  1,  1)       ( 1,  1,  2)\n",
      "( 0,  0)           0     ( 0,  0,  0)       ( 1,  1,  2)\n",
      "XOR with binary input and bipolar output\n",
      " INPUT        TARGET     WEIGHT CHANGES          WEIGHTS         \n",
      "                                              ( 0,  0,  0)\n",
      "( 1,  1)          -1     (-1, -1, -1)       (-1, -1, -1)\n",
      "( 1,  0)           1     ( 1,  0,  1)       ( 0, -1,  0)\n",
      "( 0,  1)           1     ( 0,  1,  1)       ( 0,  0,  1)\n",
      "( 0,  0)          -1     ( 0,  0, -1)       ( 0,  0,  0)\n",
      "XOR with bipolar input and bipolar output\n",
      " INPUT        TARGET     WEIGHT CHANGES          WEIGHTS         \n",
      "                                              ( 0,  0,  0)\n",
      "( 1,  1)          -1     (-1, -1, -1)       (-1, -1, -1)\n",
      "( 1, -1)           1     ( 1, -1,  1)       ( 0, -2,  0)\n",
      "(-1,  1)           1     (-1,  1,  1)       (-1, -1,  1)\n",
      "(-1, -1)          -1     ( 1,  1, -1)       ( 0,  0,  0)\n"
     ]
    }
   ],
   "source": [
    "#Python implementation of Hebbian Learning on XOR logic gates.\n",
    "def hebbian_learning(samples):\n",
    "     print(f'{\"INPUT\":^8} {\"TARGET\":^16}{\"WEIGHT CHANGES\":^15}{\"WEIGHTS\":^25}')\n",
    "     w1, w2, b = 0, 0, 0\n",
    "     print(' ' * 45, f'({w1:2}, {w2:2}, {b:2})')\n",
    "     for x1, x2, y in samples:\n",
    "         w1 = w1 + x1 * y\n",
    "         w2 = w2 + x2 * y\n",
    "         b = b + y\n",
    "         print(f'({x1:2}, {x2:2})          {y:2}     ({x1*y:2}, {x2*y:2}, {y:2})       ({w1:2}, {w2:2}, {b:2})')\n",
    "\n",
    "XOR_samples = {\n",
    "    'binary_input_binary_output': [\n",
    "        [1, 1, 0], [1, 0, 1], [0, 1, 1], [0, 0, 0] ],\n",
    "    'binary_input_bipolar_output': [\n",
    "        [1, 1, -1], [1, 0, 1], [0, 1, 1], [0, 0, -1] ],\n",
    "    'bipolar_input_bipolar_output': [\n",
    "        [ 1, 1, -1], [ 1, -1, 1], [-1, 1, 1], [-1, -1, -1] ]\n",
    "}\n",
    "\n",
    "print('XOR with binary input and binary output')\n",
    "hebbian_learning(XOR_samples['binary_input_binary_output'])\n",
    "print('XOR with binary input and bipolar output')\n",
    "hebbian_learning(XOR_samples['binary_input_bipolar_output'])\n",
    "print('XOR with bipolar input and bipolar output')\n",
    "hebbian_learning(XOR_samples['bipolar_input_bipolar_output'])"
   ]
  },
  {
   "cell_type": "code",
   "execution_count": 18,
   "id": "c3747a69",
   "metadata": {},
   "outputs": [
    {
     "name": "stdout",
     "output_type": "stream",
     "text": [
      "OR with binary input and binary output\n",
      " INPUT        TARGET     WEIGHT CHANGES          WEIGHTS         \n",
      "                                              ( 0,  0,  0)\n",
      "( 1,  1)           1     ( 1,  1,  1)       ( 1,  1,  1)\n",
      "( 1,  0)           1     ( 1,  0,  1)       ( 2,  1,  2)\n",
      "( 0,  1)           1     ( 0,  1,  1)       ( 2,  2,  3)\n",
      "( 0,  0)           0     ( 0,  0,  0)       ( 2,  2,  3)\n",
      "OR with binary input and bipolar output\n",
      " INPUT        TARGET     WEIGHT CHANGES          WEIGHTS         \n",
      "                                              ( 0,  0,  0)\n",
      "( 1,  1)           1     ( 1,  1,  1)       ( 1,  1,  1)\n",
      "( 1,  0)           1     ( 1,  0,  1)       ( 2,  1,  2)\n",
      "( 0,  1)           1     ( 0,  1,  1)       ( 2,  2,  3)\n",
      "( 0,  0)          -1     ( 0,  0, -1)       ( 2,  2,  2)\n",
      "OR with bipolar input and bipolar output\n",
      " INPUT        TARGET     WEIGHT CHANGES          WEIGHTS         \n",
      "                                              ( 0,  0,  0)\n",
      "( 1,  1)           1     ( 1,  1,  1)       ( 1,  1,  1)\n",
      "( 1, -1)           1     ( 1, -1,  1)       ( 2,  0,  2)\n",
      "(-1,  1)           1     (-1,  1,  1)       ( 1,  1,  3)\n",
      "(-1, -1)          -1     ( 1,  1, -1)       ( 2,  2,  2)\n"
     ]
    }
   ],
   "source": [
    "#Python implementation of Hebbian Learning on XOR logic gates.\n",
    "def hebbian_or_learning(samples):\n",
    "     print(f'{\"INPUT\":^8} {\"TARGET\":^16}{\"WEIGHT CHANGES\":^15}{\"WEIGHTS\":^25}')\n",
    "     w1, w2, b = 0, 0, 0\n",
    "     print(' ' * 45, f'({w1:2}, {w2:2}, {b:2})')\n",
    "     for x1, x2, y in samples:\n",
    "         w1 = w1 + x1 * y\n",
    "         w2 = w2 + x2 * y\n",
    "         b = b + y\n",
    "         print(f'({x1:2}, {x2:2})          {y:2}     ({x1*y:2}, {x2*y:2}, {y:2})       ({w1:2}, {w2:2}, {b:2})')\n",
    "\n",
    "OR_samples = {\n",
    "    'binary_input_binary_output': [\n",
    "        [1, 1, 1], [1, 0, 1], [0, 1, 1], [0, 0, 0] ],\n",
    "    'binary_input_bipolar_output': [\n",
    "        [1, 1, 1], [1, 0, 1], [0, 1, 1], [0, 0, -1] ],\n",
    "    'bipolar_input_bipolar_output': [\n",
    "        [ 1, 1, 1], [ 1, -1, 1], [-1, 1, 1], [-1, -1, -1] ]\n",
    "}\n",
    "\n",
    "print('OR with binary input and binary output')\n",
    "hebbian_or_learning(OR_samples['binary_input_binary_output'])\n",
    "print('OR with binary input and bipolar output')\n",
    "hebbian_or_learning(OR_samples['binary_input_bipolar_output'])\n",
    "print('OR with bipolar input and bipolar output')\n",
    "hebbian_or_learning(OR_samples['bipolar_input_bipolar_output'])"
   ]
  },
  {
   "cell_type": "code",
   "execution_count": 20,
   "id": "c099fb48",
   "metadata": {},
   "outputs": [
    {
     "name": "stdout",
     "output_type": "stream",
     "text": [
      "AND with binary input and binary output\n",
      " INPUT        TARGET     WEIGHT CHANGES          WEIGHTS         \n",
      "                                              ( 0,  0,  0)\n",
      "( 1,  1)           1     ( 1,  1,  1)       ( 1,  1,  1)\n",
      "( 1,  0)           0     ( 0,  0,  0)       ( 1,  1,  1)\n",
      "( 0,  1)           0     ( 0,  0,  0)       ( 1,  1,  1)\n",
      "( 0,  0)           0     ( 0,  0,  0)       ( 1,  1,  1)\n",
      "AND with binary input and bipolar output\n",
      " INPUT        TARGET     WEIGHT CHANGES          WEIGHTS         \n",
      "                                              ( 0,  0,  0)\n",
      "( 1,  1)           1     ( 1,  1,  1)       ( 1,  1,  1)\n",
      "( 1,  0)          -1     (-1,  0, -1)       ( 0,  1,  0)\n",
      "( 0,  1)          -1     ( 0, -1, -1)       ( 0,  0, -1)\n",
      "( 0,  0)           0     ( 0,  0,  0)       ( 0,  0, -1)\n",
      "AND with bipolar input and bipolar output\n",
      " INPUT        TARGET     WEIGHT CHANGES          WEIGHTS         \n",
      "                                              ( 0,  0,  0)\n",
      "( 1,  1)           1     ( 1,  1,  1)       ( 1,  1,  1)\n",
      "( 1, -1)          -1     (-1,  1, -1)       ( 0,  2,  0)\n",
      "(-1,  1)          -1     ( 1, -1, -1)       ( 1,  1, -1)\n",
      "(-1, -1)          -1     ( 1,  1, -1)       ( 2,  2, -2)\n"
     ]
    }
   ],
   "source": [
    "#Python implementation of Hebbian Learning on XOR logic gates.\n",
    "def hebbian_and_learning(samples):\n",
    "     print(f'{\"INPUT\":^8} {\"TARGET\":^16}{\"WEIGHT CHANGES\":^15}{\"WEIGHTS\":^25}')\n",
    "     w1, w2, b = 0, 0, 0\n",
    "     print(' ' * 45, f'({w1:2}, {w2:2}, {b:2})')\n",
    "     for x1, x2, y in samples:\n",
    "         w1 = w1 + x1 * y\n",
    "         w2 = w2 + x2 * y\n",
    "         b = b + y\n",
    "         print(f'({x1:2}, {x2:2})          {y:2}     ({x1*y:2}, {x2*y:2}, {y:2})       ({w1:2}, {w2:2}, {b:2})')\n",
    "\n",
    "AND_samples = {\n",
    "    'binary_input_binary_output': [\n",
    "        [1, 1, 1], [1, 0, 0], [0, 1, 0], [0, 0, 0] ],\n",
    "    'binary_input_bipolar_output': [\n",
    "        [1, 1, 1], [1, 0, -1], [0, 1, -1], [0, 0, 0] ],\n",
    "    'bipolar_input_bipolar_output': [\n",
    "        [ 1, 1, 1], [ 1, -1, -1], [-1, 1, -1], [-1, -1, -1] ]\n",
    "}\n",
    "\n",
    "print('AND with binary input and binary output')\n",
    "hebbian_and_learning(AND_samples['binary_input_binary_output'])\n",
    "print('AND with binary input and bipolar output')\n",
    "hebbian_and_learning(AND_samples['binary_input_bipolar_output'])\n",
    "print('AND with bipolar input and bipolar output')\n",
    "hebbian_and_learning(AND_samples['bipolar_input_bipolar_output'])"
   ]
  },
  {
   "cell_type": "code",
   "execution_count": 22,
   "id": "d572dc8c",
   "metadata": {},
   "outputs": [],
   "source": [
    "#Question5\n",
    "import math"
   ]
  },
  {
   "cell_type": "code",
   "execution_count": 23,
   "id": "3471f2f5",
   "metadata": {},
   "outputs": [],
   "source": [
    "def sig(x):\n",
    " return 1/(1 + math.exp(-x))"
   ]
  },
  {
   "cell_type": "code",
   "execution_count": 24,
   "id": "ca156b6a",
   "metadata": {},
   "outputs": [
    {
     "name": "stdout",
     "output_type": "stream",
     "text": [
      "0.4993000004573329\n"
     ]
    }
   ],
   "source": [
    "x1=0.2\n",
    "x2=0.3\n",
    "x3=0.9\n",
    "output_1=x1*(-0.7)+x2*(-0.8)+x3*(0.2)\n",
    "y1=output_1*(0.2)\n",
    "y2=output_1*0.1\n",
    "y3=output_1*0.2\n",
    "z1=y1*0.4+y2*0.3\n",
    "z2=y2*(-0.7)+y3*(0.8)\n",
    "final=z1*(-0.2)+z2*(0.4)\n",
    "final_y=sig(final)\n",
    "print(final_y)"
   ]
  },
  {
   "cell_type": "code",
   "execution_count": null,
   "id": "0ca7a107",
   "metadata": {},
   "outputs": [],
   "source": []
  },
  {
   "cell_type": "code",
   "execution_count": null,
   "id": "2216f3a6",
   "metadata": {},
   "outputs": [],
   "source": []
  }
 ],
 "metadata": {
  "kernelspec": {
   "display_name": "Python 3 (ipykernel)",
   "language": "python",
   "name": "python3"
  },
  "language_info": {
   "codemirror_mode": {
    "name": "ipython",
    "version": 3
   },
   "file_extension": ".py",
   "mimetype": "text/x-python",
   "name": "python",
   "nbconvert_exporter": "python",
   "pygments_lexer": "ipython3",
   "version": "3.9.13"
  }
 },
 "nbformat": 4,
 "nbformat_minor": 5
}
