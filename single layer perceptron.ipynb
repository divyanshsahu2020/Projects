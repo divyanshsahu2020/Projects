{
 "cells": [
  {
   "cell_type": "code",
   "execution_count": 6,
   "id": "ebf9cb60",
   "metadata": {},
   "outputs": [],
   "source": [
    "class Perceptron(object):\n",
    "    \"\"\"Implements a perceptron network\"\"\"\n",
    "    def __init__(self, input_size, lr=1, epochs=100):\n",
    "        self.W = np.zeros(input_size+1)\n",
    "        # add one for bias\n",
    "        self.epochs = epochs\n",
    "        self.lr = lr\n",
    "    \n",
    "    def activation_fn(self, x):\n",
    "        #return (x >= 0).astype(np.float32)\n",
    "        return 1 if x >= 0 else 0\n",
    "    def predict(self, x):\n",
    "        z = self.W.T.dot(x)\n",
    "        a = self.activation_fn(z)\n",
    "        return a\n",
    "    def fit(self, X, d):\n",
    "        for _ in range(self.epochs):\n",
    "            for i in range(d.shape[0]):\n",
    "                x = np.insert(X[i], 0, 1)\n",
    "                y = self.predict(x)\n",
    "                e = d[i] - y\n",
    "                self.W = self.W + self.lr * e * x"
   ]
  },
  {
   "cell_type": "code",
   "execution_count": 15,
   "id": "d0005ed9",
   "metadata": {},
   "outputs": [
    {
     "name": "stdout",
     "output_type": "stream",
     "text": [
      "Bipolar Input and Biploar Output AND\n",
      "[-268.  134.  134.]\n"
     ]
    }
   ],
   "source": [
    "if __name__ == '__main__':\n",
    "    X = np.array([\n",
    "        [-1, -1],\n",
    "        [-1, 1],\n",
    "        [1, -1],\n",
    "        [1, 1]\n",
    "    ])\n",
    "    d = np.array([-1, -1, -1, 1])\n",
    "    perceptron = Perceptron(input_size=2)\n",
    "    print(\"Bipolar Input and Biploar Output AND\")\n",
    "    perceptron.fit(X, d)\n",
    "    print(perceptron.W)"
   ]
  },
  {
   "cell_type": "code",
   "execution_count": null,
   "id": "2784b820",
   "metadata": {},
   "outputs": [],
   "source": []
  }
 ],
 "metadata": {
  "kernelspec": {
   "display_name": "Python 3 (ipykernel)",
   "language": "python",
   "name": "python3"
  },
  "language_info": {
   "codemirror_mode": {
    "name": "ipython",
    "version": 3
   },
   "file_extension": ".py",
   "mimetype": "text/x-python",
   "name": "python",
   "nbconvert_exporter": "python",
   "pygments_lexer": "ipython3",
   "version": "3.9.13"
  }
 },
 "nbformat": 4,
 "nbformat_minor": 5
}
