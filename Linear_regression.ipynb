{
  "nbformat": 4,
  "nbformat_minor": 0,
  "metadata": {
    "colab": {
      "name": "Linear regression.ipynb",
      "provenance": []
    },
    "kernelspec": {
      "display_name": "Python 3",
      "name": "python3"
    }
  },
  "cells": [
    {
      "cell_type": "markdown",
      "metadata": {
        "id": "BKkOv0hS5wnF"
      },
      "source": [
        "Accessing the Google Drive for reading dataset\n"
      ]
    },
    {
      "cell_type": "code",
      "metadata": {
        "id": "Opdseuu253b4",
        "colab": {
          "base_uri": "https://localhost:8080/"
        },
        "outputId": "582be31c-eef2-40cf-b455-66f8647b39a8"
      },
      "source": [
        "import os\n",
        "from google.colab import drive\n",
        "drive.mount('/content/drive/')"
      ],
      "execution_count": null,
      "outputs": [
        {
          "output_type": "stream",
          "text": [
            "Mounted at /content/drive/\n"
          ],
          "name": "stdout"
        }
      ]
    },
    {
      "cell_type": "markdown",
      "metadata": {
        "id": "Z1ycG2zTwJyF"
      },
      "source": [
        "Importing All required Packages"
      ]
    },
    {
      "cell_type": "code",
      "metadata": {
        "id": "D2rcSZlrwNtZ"
      },
      "source": [
        "import numpy as np\n",
        "import pandas as pd\n",
        "import matplotlib.pyplot as plt\n",
        "plt.rcParams['figure.figsize'] = (20.0, 10.0)\n"
      ],
      "execution_count": null,
      "outputs": []
    },
    {
      "cell_type": "markdown",
      "metadata": {
        "id": "yOR6eKUw7yje"
      },
      "source": [
        "Reading the Headbrain dataset from google drive"
      ]
    },
    {
      "cell_type": "code",
      "metadata": {
        "colab": {
          "base_uri": "https://localhost:8080/",
          "height": 366
        },
        "id": "sLZQIFs176Mv",
        "outputId": "5cfb2255-84ec-49e0-bcc8-c83c8ef9eea1"
      },
      "source": [
        "data=pd.read_csv('/content/drive/My Drive/CSV/headbrain.csv')\n",
        "print(data.shape)\n",
        "data.head(10)"
      ],
      "execution_count": null,
      "outputs": [
        {
          "output_type": "stream",
          "text": [
            "(237, 4)\n"
          ],
          "name": "stdout"
        },
        {
          "output_type": "execute_result",
          "data": {
            "text/html": [
              "<div>\n",
              "<style scoped>\n",
              "    .dataframe tbody tr th:only-of-type {\n",
              "        vertical-align: middle;\n",
              "    }\n",
              "\n",
              "    .dataframe tbody tr th {\n",
              "        vertical-align: top;\n",
              "    }\n",
              "\n",
              "    .dataframe thead th {\n",
              "        text-align: right;\n",
              "    }\n",
              "</style>\n",
              "<table border=\"1\" class=\"dataframe\">\n",
              "  <thead>\n",
              "    <tr style=\"text-align: right;\">\n",
              "      <th></th>\n",
              "      <th>Gender</th>\n",
              "      <th>Age Range</th>\n",
              "      <th>Head Size(cm^3)</th>\n",
              "      <th>Brain Weight(grams)</th>\n",
              "    </tr>\n",
              "  </thead>\n",
              "  <tbody>\n",
              "    <tr>\n",
              "      <th>0</th>\n",
              "      <td>1</td>\n",
              "      <td>1</td>\n",
              "      <td>4512</td>\n",
              "      <td>1530</td>\n",
              "    </tr>\n",
              "    <tr>\n",
              "      <th>1</th>\n",
              "      <td>1</td>\n",
              "      <td>1</td>\n",
              "      <td>3738</td>\n",
              "      <td>1297</td>\n",
              "    </tr>\n",
              "    <tr>\n",
              "      <th>2</th>\n",
              "      <td>1</td>\n",
              "      <td>1</td>\n",
              "      <td>4261</td>\n",
              "      <td>1335</td>\n",
              "    </tr>\n",
              "    <tr>\n",
              "      <th>3</th>\n",
              "      <td>1</td>\n",
              "      <td>1</td>\n",
              "      <td>3777</td>\n",
              "      <td>1282</td>\n",
              "    </tr>\n",
              "    <tr>\n",
              "      <th>4</th>\n",
              "      <td>1</td>\n",
              "      <td>1</td>\n",
              "      <td>4177</td>\n",
              "      <td>1590</td>\n",
              "    </tr>\n",
              "    <tr>\n",
              "      <th>5</th>\n",
              "      <td>1</td>\n",
              "      <td>1</td>\n",
              "      <td>3585</td>\n",
              "      <td>1300</td>\n",
              "    </tr>\n",
              "    <tr>\n",
              "      <th>6</th>\n",
              "      <td>1</td>\n",
              "      <td>1</td>\n",
              "      <td>3785</td>\n",
              "      <td>1400</td>\n",
              "    </tr>\n",
              "    <tr>\n",
              "      <th>7</th>\n",
              "      <td>1</td>\n",
              "      <td>1</td>\n",
              "      <td>3559</td>\n",
              "      <td>1255</td>\n",
              "    </tr>\n",
              "    <tr>\n",
              "      <th>8</th>\n",
              "      <td>1</td>\n",
              "      <td>1</td>\n",
              "      <td>3613</td>\n",
              "      <td>1355</td>\n",
              "    </tr>\n",
              "    <tr>\n",
              "      <th>9</th>\n",
              "      <td>1</td>\n",
              "      <td>1</td>\n",
              "      <td>3982</td>\n",
              "      <td>1375</td>\n",
              "    </tr>\n",
              "  </tbody>\n",
              "</table>\n",
              "</div>"
            ],
            "text/plain": [
              "   Gender  Age Range  Head Size(cm^3)  Brain Weight(grams)\n",
              "0       1          1             4512                 1530\n",
              "1       1          1             3738                 1297\n",
              "2       1          1             4261                 1335\n",
              "3       1          1             3777                 1282\n",
              "4       1          1             4177                 1590\n",
              "5       1          1             3585                 1300\n",
              "6       1          1             3785                 1400\n",
              "7       1          1             3559                 1255\n",
              "8       1          1             3613                 1355\n",
              "9       1          1             3982                 1375"
            ]
          },
          "metadata": {
            "tags": []
          },
          "execution_count": 3
        }
      ]
    },
    {
      "cell_type": "markdown",
      "metadata": {
        "id": "8z9vuu6s_96E"
      },
      "source": [
        "Collecting data for X and Y (Relation between Head size and Brain Weight). Predictor variable is Head Size and the targete variable in brain Weight.\n"
      ]
    },
    {
      "cell_type": "code",
      "metadata": {
        "colab": {
          "base_uri": "https://localhost:8080/",
          "height": 590
        },
        "id": "_3lo8XnaAc_B",
        "outputId": "b9ee75c8-4605-4e8c-9e11-f2995ef193b7"
      },
      "source": [
        "x=data['Head Size(cm^3)'].values\n",
        "y=data['Brain Weight(grams)'].values\n",
        "plt.scatter(x,y,c='#ef5423', label='Scatter Plot')"
      ],
      "execution_count": null,
      "outputs": [
        {
          "output_type": "execute_result",
          "data": {
            "text/plain": [
              "<matplotlib.collections.PathCollection at 0x7faa1e878b38>"
            ]
          },
          "metadata": {
            "tags": []
          },
          "execution_count": 4
        },
        {
          "output_type": "display_data",
          "data": {
            "image/png": "[encoded data removed]",
            "text/plain": [
              "<Figure size 1440x720 with 1 Axes>"
            ]
          },
          "metadata": {
            "tags": [],
            "needs_background": "light"
          }
        }
      ]
    },
    {
      "cell_type": "markdown",
      "metadata": {
        "id": "5YNMIuuPDqJe"
      },
      "source": [
        "Linear Equation with one predictor variable will be in the form of Y = MX + C. In our process we need to identify \"M\" and \"C\". \n",
        "\n",
        "---\n",
        "\n",
        "\n",
        "M = Sum[(x-x')*(y-y')]/Sum[(x-x')^2]\n",
        "\n",
        "---\n",
        "\n",
        "\n",
        "Where x' and y' is mean of the x and y"
      ]
    },
    {
      "cell_type": "markdown",
      "metadata": {
        "id": "PHPYAVXIEFBf"
      },
      "source": [
        "Step1: Calculate the mean of both X and Y. Two alternative function are available we can use anyone \n",
        "1. numpy.mean(): Here np.mean(x)\n",
        "2. x.mean()"
      ]
    },
    {
      "cell_type": "code",
      "metadata": {
        "id": "CAjCwL8QEMMY"
      },
      "source": [
        "x_mean=np.mean(x)\n",
        "y_mean=np.mean(y)\n"
      ],
      "execution_count": null,
      "outputs": []
    },
    {
      "cell_type": "markdown",
      "metadata": {
        "id": "u12v73CSGzvz"
      },
      "source": [
        "Step2: Calculate Sum of (x-x')*(y-y') and (x-x')^2 for all rows. Then calculate M\n"
      ]
    },
    {
      "cell_type": "code",
      "metadata": {
        "colab": {
          "base_uri": "https://localhost:8080/"
        },
        "id": "aktJk37DHR5i",
        "outputId": "01149842-8a5d-47e4-f214-bb2997a3b04e"
      },
      "source": [
        "numberofdata = len(x)\n",
        "numerator = 0\n",
        "denominator = 0\n",
        "\n",
        "for icount in range(numberofdata):\n",
        "  numerator += (x[icount]-x_mean)*(y[icount]-y_mean)\n",
        "  denominator += (x[icount]-x_mean)**2\n",
        "M = numerator / denominator\n",
        "print(M)"
      ],
      "execution_count": null,
      "outputs": [
        {
          "output_type": "stream",
          "text": [
            "0.26342933948939945\n"
          ],
          "name": "stdout"
        }
      ]
    },
    {
      "cell_type": "markdown",
      "metadata": {
        "id": "lIYmm4aiJKdV"
      },
      "source": [
        "Step3: Find C substituting x_mean, y_mean and M value in linear equation"
      ]
    },
    {
      "cell_type": "code",
      "metadata": {
        "colab": {
          "base_uri": "https://localhost:8080/"
        },
        "id": "mhdNThbpKVM0",
        "outputId": "771fe22a-b5f6-4114-b19c-7f24d93f1b33"
      },
      "source": [
        "C=y_mean - (M * x_mean)\n",
        "print(C)\n",
        "print(x_mean,y_mean)"
      ],
      "execution_count": null,
      "outputs": [
        {
          "output_type": "stream",
          "text": [
            "325.57342104944223\n",
            "3633.9915611814345 1282.873417721519\n"
          ],
          "name": "stdout"
        }
      ]
    },
    {
      "cell_type": "markdown",
      "metadata": {
        "id": "JXGdqbk8PP8E"
      },
      "source": [
        "Conclusion at this stage: Given Head size the brain weight will be 0.26 times Head size plus 325.5\n"
      ]
    },
    {
      "cell_type": "markdown",
      "metadata": {
        "id": "HjIyyO9wRaaa"
      },
      "source": [
        "Drawing Regression line in the plot"
      ]
    },
    {
      "cell_type": "code",
      "metadata": {
        "colab": {
          "base_uri": "https://localhost:8080/",
          "height": 578
        },
        "id": "fMv0WHc4Pkws",
        "outputId": "71b6334b-4bb5-4984-d97f-84175d1f22c7"
      },
      "source": [
        "max_x=np.max(x)+100\n",
        "min_x=np.min(x)-100\n",
        "\n",
        "linex=np.linspace(min_x, max_x,1000)\n",
        "liney= M*linex + C\n",
        "\n",
        "plt.plot(linex, liney, c=\"#58b970\", label=\"Regression Line\")\n",
        "plt.scatter(x,y,c='#ef5423', label='Scatter Plot')\n",
        "\n",
        "plt.xlabel(\"Head Size in cm3\")\n",
        "plt.ylabel(\"Brain Weight in gms\")\n",
        "plt.show()"
      ],
      "execution_count": null,
      "outputs": [
        {
          "output_type": "display_data",
          "data": {
            "image/png": "[encoded data removed]",
            "text/plain": [
              "<Figure size 1440x720 with 1 Axes>"
            ]
          },
          "metadata": {
            "tags": [],
            "needs_background": "light"
          }
        }
      ]
    },
    {
      "cell_type": "markdown",
      "metadata": {
        "id": "g9X6x1dPJp4w"
      },
      "source": [
        "Verification of model with Rsquare method\n",
        "R^2 = Sum(Yp-y')^2 / Sum (y-y')^2"
      ]
    },
    {
      "cell_type": "code",
      "metadata": {
        "colab": {
          "base_uri": "https://localhost:8080/"
        },
        "id": "f68k0wp5K3Bg",
        "outputId": "8809a9d2-4c3a-47b8-867f-a4de806fa535"
      },
      "source": [
        "r2numerator=0\n",
        "r2denominator=0\n",
        "\n",
        "for icount in range(numberofdata):\n",
        "  ypredicted = M * x[icount] + C\n",
        "  r2denominator += (y[icount]-y_mean)**2\n",
        "  r2numerator += (ypredicted - y_mean)**2\n",
        "r2 = r2numerator / r2denominator\n",
        "\n",
        "print(1-r2)"
      ],
      "execution_count": null,
      "outputs": [
        {
          "output_type": "stream",
          "text": [
            "0.3606882800429999\n"
          ],
          "name": "stdout"
        }
      ]
    }
  ]
}